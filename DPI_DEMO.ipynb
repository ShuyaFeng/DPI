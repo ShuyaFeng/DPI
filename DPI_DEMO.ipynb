{
 "cells": [
  {
   "cell_type": "code",
   "execution_count": 1,
   "metadata": {},
   "outputs": [],
   "source": [
    "%matplotlib inline"
   ]
  },
  {
   "cell_type": "code",
   "execution_count": 2,
   "metadata": {},
   "outputs": [],
   "source": [
    "import sys"
   ]
  },
  {
   "cell_type": "markdown",
   "metadata": {},
   "source": [
    "sys.path.append('./py38/lib/python3.8/site-packages')\n",
    "sys.path.append('./py38/lib/python3.8/site-packages/IPython/extensions/')"
   ]
  },
  {
   "cell_type": "code",
   "execution_count": 3,
   "metadata": {},
   "outputs": [],
   "source": [
    "import os"
   ]
  },
  {
   "cell_type": "code",
   "execution_count": 10,
   "metadata": {},
   "outputs": [],
   "source": [
    "import numpy as np\n",
    "import random\n",
    "from scipy.stats import entropy\n",
    "from sklearn.metrics import mean_squared_error\n",
    "from scipy.special import spence"
   ]
  },
  {
   "cell_type": "code",
   "execution_count": 2,
   "metadata": {},
   "outputs": [],
   "source": [
    "\n",
    "def kldivergence(arra,arrb):\n",
    "    div = np.sum(np.log(a / b) * a)\n",
    "    return div"
   ]
  },
  {
   "cell_type": "markdown",
   "metadata": {},
   "source": [
    "# Synoposis Generator"
   ]
  },
  {
   "cell_type": "code",
   "execution_count": 3,
   "metadata": {},
   "outputs": [],
   "source": [
    "\n",
    "# Generate one sample\n",
    "def synoposis_generator_pseu(n):\n",
    "    p = [1/n] * n \n",
    "    sample = np.random.multinomial(n, p)\n",
    "    synopsis = [x / sum(sample) for x in sample]\n",
    "    return synopsis\n"
   ]
  },
  {
   "cell_type": "markdown",
   "metadata": {},
   "source": [
    "## Random budget allocation with ranges"
   ]
  },
  {
   "cell_type": "code",
   "execution_count": 4,
   "metadata": {},
   "outputs": [],
   "source": [
    "import queue\n",
    "import random\n",
    "\n",
    "# Initialize queues and sets\n",
    "small_numbers = queue.Queue()\n",
    "medium_numbers = queue.Queue()\n",
    "large_numbers = queue.Queue()\n",
    "\n",
    "small_numbers_set = set()\n",
    "medium_numbers_set = set()\n",
    "large_numbers_set = set()\n",
    "\n",
    "# Define the ranges for each category\n",
    "small_range = range(1, 10000)\n",
    "medium_range = range(10000, 20000)\n",
    "large_range = range(20000, 30000)\n",
    "\n",
    "# Fill each queue with its respective range and also add it to the set\n",
    "for i in small_range:\n",
    "    small_numbers.put(i)\n",
    "    small_numbers_set.add(i)\n",
    "\n",
    "for i in medium_range:\n",
    "    medium_numbers.put(i)\n",
    "    medium_numbers_set.add(i)\n",
    "\n",
    "for i in large_range:\n",
    "    large_numbers.put(i)\n",
    "    large_numbers_set.add(i)\n",
    "\n",
    "def get_unique_random_number():\n",
    "    while True:\n",
    "        random_queue = random.choice([small_numbers, medium_numbers, large_numbers])\n",
    "        if random_queue is small_numbers and not small_numbers.empty():\n",
    "            number = small_numbers.get()\n",
    "            small_numbers_set.remove(number)\n",
    "            return number\n",
    "        elif random_queue is medium_numbers and not medium_numbers.empty():\n",
    "            number = medium_numbers.get()\n",
    "            medium_numbers_set.remove(number)\n",
    "            return number\n",
    "        elif random_queue is large_numbers and not large_numbers.empty():\n",
    "            number = large_numbers.get()\n",
    "            large_numbers_set.remove(number)\n",
    "            return number\n"
   ]
  },
  {
   "cell_type": "code",
   "execution_count": 5,
   "metadata": {},
   "outputs": [],
   "source": [
    "\n",
    "def random_budget_allocation(epsilon,mu):\n",
    "    a = 1\n",
    "    \n",
    "    i = get_unique_random_number()\n",
    "    \n",
    "    C=2/np.abs(a)/mu\n",
    "    \n",
    "    m_square=spence((np.pi**2/6)-epsilon/C)**(-1)\n",
    "\n",
    "    eta=(np.e**((1-m_square**(2*i))/i/i/np.abs(a)) -1)/(np.e**((1-m_square**(2*i))/i/i/np.abs(a)) +1)\n",
    "    \n",
    "    return eta"
   ]
  },
  {
   "cell_type": "markdown",
   "metadata": {},
   "source": [
    "## DPI Boosting"
   ]
  },
  {
   "cell_type": "code",
   "execution_count": 6,
   "metadata": {},
   "outputs": [],
   "source": [
    "def new_reweight(Aq, lamda, mu, eta):\n",
    "    if Aq <= lamda:\n",
    "        aq = 1\n",
    "    elif Aq >= lamda + mu:\n",
    "        aq = -1\n",
    "    else:\n",
    "        aq=1-2 * (Aq - lamda) / mu\n",
    "        \n",
    "    return aq\n"
   ]
  },
  {
   "cell_type": "code",
   "execution_count": null,
   "metadata": {},
   "outputs": [],
   "source": []
  },
  {
   "cell_type": "code",
   "execution_count": 7,
   "metadata": {},
   "outputs": [],
   "source": [
    "\n",
    "\n",
    "def get_divs(epsilon):\n",
    "    difference=[]\n",
    "    sigma=2\n",
    "    length = 6500 ## Define the synopsis pool size\n",
    "    query_number = 2\n",
    "    sampler_distribution_query = [[1/length] * length for _ in range(query_number)]\n",
    "    queryset = []\n",
    "    output_ds1=[]\n",
    "    output_ks1=[]\n",
    "    total_accum = np.zeros(DEFAULT_DIST_LEN)\n",
    "    query = 1\n",
    "    \n",
    "    for t in range(1,int(tslot)): \n",
    "        \n",
    "        ## Generate data\n",
    "        current_slot = np.random.normal(DEFAULT_DIST_LEN,sigma,DEFAULT_DIST_LEN)\n",
    "        current_slot[current_slot < 0] = 0\n",
    "        total_accum += current_slot\n",
    "        current_slot /= np.sum(current_slot)\n",
    "        \n",
    "        \n",
    "        ## Get budget\n",
    "        eta = random_budget_allocation(epsilon,mu)\n",
    "        total_accum[total_accum < 0] = 0\n",
    "        current_slot=np.array(current_slot)\n",
    "        current_slot[current_slot < 0] = 0\n",
    "        divs_acc = total_accum\n",
    "        divs_acc /= divs_acc.sum() #true answers pdf\n",
    "        divs_cur = np.array(current_slot)\n",
    "        divs_cur /= divs_cur.sum()\n",
    "        queryset.append(divs_acc)\n",
    "        queryset.append(divs_cur)\n",
    "        output = np.zeros(len(divs_acc))\n",
    "        alpha=1/2*np.log((1+2*eta)/(1-2*eta))\n",
    "\n",
    "        synoposislist = [None] * length \n",
    "        possible_outcomes = [i for i in range(length)]\n",
    "        index_list=np.random.choice(possible_outcomes, 20, p=sampler_distribution_query[query]) ###### defined by domain size\n",
    "        for i in index_list:\n",
    "\n",
    "            structure=synoposis_generator_pseu(DEFAULT_DIST_LEN)\n",
    "            output = [output[m]+structure[m] for m in range(len(structure))]\n",
    "            while(structure in synoposislist):\n",
    "                structure=synoposis_generator_pseu(DEFAULT_DIST_LEN)\n",
    "\n",
    "\n",
    "            synoposislist[i]=structure\n",
    "            l1_dist = np.linalg.norm(structure - divs_acc, ord=1)\n",
    "\n",
    "            sampler_distribution_query[query][i]=new_reweight(l1_dist,lamda,mu,eta)\n",
    "\n",
    "        uq1t=np.exp(alpha*np.sum(sampler_distribution_query[query]))\n",
    "        for i in range(len(sampler_distribution_query[query])):\n",
    "            sampler_distribution_query[query][i]=sampler_distribution_query[query][i]*uq1t\n",
    "        sampler_distribution_query[query] = [x if x > 0 else 0.0001 for x in sampler_distribution_query[query]]\n",
    "        sampler_distribution_query[query] /= np.sum(sampler_distribution_query[query])\n",
    "        output /= np.sum(output)\n",
    "\n",
    "        output_ds1.append(mean_squared_error(output, queryset[query]))\n",
    "        output_ks1.append(entropy(queryset[query], output))\n",
    "\n",
    "\n",
    "    return np.mean(output_ds1),np.mean(output_ks1)\n",
    "            \n"
   ]
  },
  {
   "cell_type": "markdown",
   "metadata": {
    "tags": []
   },
   "source": [
    "## Experiment Setting"
   ]
  },
  {
   "cell_type": "code",
   "execution_count": 8,
   "metadata": {},
   "outputs": [],
   "source": [
    "sensitivity = 2\n",
    "lamda=0.5\n",
    "mu=0.5\n",
    "tslot=10\n",
    "DEFAULT_DIST_LEN = 100"
   ]
  },
  {
   "cell_type": "markdown",
   "metadata": {},
   "source": [
    "## Run demo"
   ]
  },
  {
   "cell_type": "code",
   "execution_count": null,
   "metadata": {},
   "outputs": [],
   "source": [
    "pritvate_result=get_divs(2)"
   ]
  },
  {
   "cell_type": "code",
   "execution_count": null,
   "metadata": {},
   "outputs": [],
   "source": []
  }
 ],
 "metadata": {
  "kernelspec": {
   "display_name": "Python 3",
   "language": "python",
   "name": "python3"
  },
  "language_info": {
   "codemirror_mode": {
    "name": "ipython",
    "version": 3
   },
   "file_extension": ".py",
   "mimetype": "text/x-python",
   "name": "python",
   "nbconvert_exporter": "python",
   "pygments_lexer": "ipython3",
   "version": "3.8.5"
  }
 },
 "nbformat": 4,
 "nbformat_minor": 4
}
